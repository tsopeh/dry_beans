{
 "cells": [
  {
   "cell_type": "code",
   "execution_count": 20,
   "metadata": {
    "collapsed": true
   },
   "outputs": [],
   "source": [
    "import pandas as pd"
   ]
  },
  {
   "cell_type": "code",
   "execution_count": 21,
   "outputs": [],
   "source": [
    "data = pd.read_excel(\"./data/Dry_Bean_Dataset.xlsx\")"
   ],
   "metadata": {
    "collapsed": false,
    "pycharm": {
     "name": "#%%\n"
    }
   }
  },
  {
   "cell_type": "code",
   "execution_count": 22,
   "outputs": [
    {
     "name": "stdout",
     "output_type": "stream",
     "text": [
      "<class 'pandas.core.frame.DataFrame'>\n",
      "RangeIndex: 13611 entries, 0 to 13610\n",
      "Data columns (total 17 columns):\n",
      " #   Column           Non-Null Count  Dtype  \n",
      "---  ------           --------------  -----  \n",
      " 0   Area             13611 non-null  int64  \n",
      " 1   Perimeter        13611 non-null  float64\n",
      " 2   MajorAxisLength  13611 non-null  float64\n",
      " 3   MinorAxisLength  13611 non-null  float64\n",
      " 4   AspectRation     13611 non-null  float64\n",
      " 5   Eccentricity     13611 non-null  float64\n",
      " 6   ConvexArea       13611 non-null  int64  \n",
      " 7   EquivDiameter    13611 non-null  float64\n",
      " 8   Extent           13611 non-null  float64\n",
      " 9   Solidity         13611 non-null  float64\n",
      " 10  roundness        13611 non-null  float64\n",
      " 11  Compactness      13611 non-null  float64\n",
      " 12  ShapeFactor1     13611 non-null  float64\n",
      " 13  ShapeFactor2     13611 non-null  float64\n",
      " 14  ShapeFactor3     13611 non-null  float64\n",
      " 15  ShapeFactor4     13611 non-null  float64\n",
      " 16  Class            13611 non-null  object \n",
      "dtypes: float64(14), int64(2), object(1)\n",
      "memory usage: 1.8+ MB\n"
     ]
    }
   ],
   "source": [
    "data.info()"
   ],
   "metadata": {
    "collapsed": false,
    "pycharm": {
     "name": "#%%\n"
    }
   }
  },
  {
   "cell_type": "code",
   "execution_count": 23,
   "outputs": [
    {
     "data": {
      "text/plain": "                Area     Perimeter  MajorAxisLength  MinorAxisLength  \\\ncount   13611.000000  13611.000000     13611.000000     13611.000000   \nmean    53048.284549    855.283459       320.141867       202.270714   \nstd     29324.095717    214.289696        85.694186        44.970091   \nmin     20420.000000    524.736000       183.601165       122.512653   \n25%     36328.000000    703.523500       253.303633       175.848170   \n50%     44652.000000    794.941000       296.883367       192.431733   \n75%     61332.000000    977.213000       376.495012       217.031741   \nmax    254616.000000   1985.370000       738.860153       460.198497   \n\n       AspectRation  Eccentricity     ConvexArea  EquivDiameter        Extent  \\\ncount  13611.000000  13611.000000   13611.000000   13611.000000  13611.000000   \nmean       1.583242      0.750895   53768.200206     253.064220      0.749733   \nstd        0.246678      0.092002   29774.915817      59.177120      0.049086   \nmin        1.024868      0.218951   20684.000000     161.243764      0.555315   \n25%        1.432307      0.715928   36714.500000     215.068003      0.718634   \n50%        1.551124      0.764441   45178.000000     238.438026      0.759859   \n75%        1.707109      0.810466   62294.000000     279.446467      0.786851   \nmax        2.430306      0.911423  263261.000000     569.374358      0.866195   \n\n           Solidity     roundness   Compactness  ShapeFactor1  ShapeFactor2  \\\ncount  13611.000000  13611.000000  13611.000000  13611.000000  13611.000000   \nmean       0.987143      0.873282      0.799864      0.006564      0.001716   \nstd        0.004660      0.059520      0.061713      0.001128      0.000596   \nmin        0.919246      0.489618      0.640577      0.002778      0.000564   \n25%        0.985670      0.832096      0.762469      0.005900      0.001154   \n50%        0.988283      0.883157      0.801277      0.006645      0.001694   \n75%        0.990013      0.916869      0.834270      0.007271      0.002170   \nmax        0.994677      0.990685      0.987303      0.010451      0.003665   \n\n       ShapeFactor3  ShapeFactor4  \ncount  13611.000000  13611.000000  \nmean       0.643590      0.995063  \nstd        0.098996      0.004366  \nmin        0.410339      0.947687  \n25%        0.581359      0.993703  \n50%        0.642044      0.996386  \n75%        0.696006      0.997883  \nmax        0.974767      0.999733  ",
      "text/html": "<div>\n<style scoped>\n    .dataframe tbody tr th:only-of-type {\n        vertical-align: middle;\n    }\n\n    .dataframe tbody tr th {\n        vertical-align: top;\n    }\n\n    .dataframe thead th {\n        text-align: right;\n    }\n</style>\n<table border=\"1\" class=\"dataframe\">\n  <thead>\n    <tr style=\"text-align: right;\">\n      <th></th>\n      <th>Area</th>\n      <th>Perimeter</th>\n      <th>MajorAxisLength</th>\n      <th>MinorAxisLength</th>\n      <th>AspectRation</th>\n      <th>Eccentricity</th>\n      <th>ConvexArea</th>\n      <th>EquivDiameter</th>\n      <th>Extent</th>\n      <th>Solidity</th>\n      <th>roundness</th>\n      <th>Compactness</th>\n      <th>ShapeFactor1</th>\n      <th>ShapeFactor2</th>\n      <th>ShapeFactor3</th>\n      <th>ShapeFactor4</th>\n    </tr>\n  </thead>\n  <tbody>\n    <tr>\n      <th>count</th>\n      <td>13611.000000</td>\n      <td>13611.000000</td>\n      <td>13611.000000</td>\n      <td>13611.000000</td>\n      <td>13611.000000</td>\n      <td>13611.000000</td>\n      <td>13611.000000</td>\n      <td>13611.000000</td>\n      <td>13611.000000</td>\n      <td>13611.000000</td>\n      <td>13611.000000</td>\n      <td>13611.000000</td>\n      <td>13611.000000</td>\n      <td>13611.000000</td>\n      <td>13611.000000</td>\n      <td>13611.000000</td>\n    </tr>\n    <tr>\n      <th>mean</th>\n      <td>53048.284549</td>\n      <td>855.283459</td>\n      <td>320.141867</td>\n      <td>202.270714</td>\n      <td>1.583242</td>\n      <td>0.750895</td>\n      <td>53768.200206</td>\n      <td>253.064220</td>\n      <td>0.749733</td>\n      <td>0.987143</td>\n      <td>0.873282</td>\n      <td>0.799864</td>\n      <td>0.006564</td>\n      <td>0.001716</td>\n      <td>0.643590</td>\n      <td>0.995063</td>\n    </tr>\n    <tr>\n      <th>std</th>\n      <td>29324.095717</td>\n      <td>214.289696</td>\n      <td>85.694186</td>\n      <td>44.970091</td>\n      <td>0.246678</td>\n      <td>0.092002</td>\n      <td>29774.915817</td>\n      <td>59.177120</td>\n      <td>0.049086</td>\n      <td>0.004660</td>\n      <td>0.059520</td>\n      <td>0.061713</td>\n      <td>0.001128</td>\n      <td>0.000596</td>\n      <td>0.098996</td>\n      <td>0.004366</td>\n    </tr>\n    <tr>\n      <th>min</th>\n      <td>20420.000000</td>\n      <td>524.736000</td>\n      <td>183.601165</td>\n      <td>122.512653</td>\n      <td>1.024868</td>\n      <td>0.218951</td>\n      <td>20684.000000</td>\n      <td>161.243764</td>\n      <td>0.555315</td>\n      <td>0.919246</td>\n      <td>0.489618</td>\n      <td>0.640577</td>\n      <td>0.002778</td>\n      <td>0.000564</td>\n      <td>0.410339</td>\n      <td>0.947687</td>\n    </tr>\n    <tr>\n      <th>25%</th>\n      <td>36328.000000</td>\n      <td>703.523500</td>\n      <td>253.303633</td>\n      <td>175.848170</td>\n      <td>1.432307</td>\n      <td>0.715928</td>\n      <td>36714.500000</td>\n      <td>215.068003</td>\n      <td>0.718634</td>\n      <td>0.985670</td>\n      <td>0.832096</td>\n      <td>0.762469</td>\n      <td>0.005900</td>\n      <td>0.001154</td>\n      <td>0.581359</td>\n      <td>0.993703</td>\n    </tr>\n    <tr>\n      <th>50%</th>\n      <td>44652.000000</td>\n      <td>794.941000</td>\n      <td>296.883367</td>\n      <td>192.431733</td>\n      <td>1.551124</td>\n      <td>0.764441</td>\n      <td>45178.000000</td>\n      <td>238.438026</td>\n      <td>0.759859</td>\n      <td>0.988283</td>\n      <td>0.883157</td>\n      <td>0.801277</td>\n      <td>0.006645</td>\n      <td>0.001694</td>\n      <td>0.642044</td>\n      <td>0.996386</td>\n    </tr>\n    <tr>\n      <th>75%</th>\n      <td>61332.000000</td>\n      <td>977.213000</td>\n      <td>376.495012</td>\n      <td>217.031741</td>\n      <td>1.707109</td>\n      <td>0.810466</td>\n      <td>62294.000000</td>\n      <td>279.446467</td>\n      <td>0.786851</td>\n      <td>0.990013</td>\n      <td>0.916869</td>\n      <td>0.834270</td>\n      <td>0.007271</td>\n      <td>0.002170</td>\n      <td>0.696006</td>\n      <td>0.997883</td>\n    </tr>\n    <tr>\n      <th>max</th>\n      <td>254616.000000</td>\n      <td>1985.370000</td>\n      <td>738.860153</td>\n      <td>460.198497</td>\n      <td>2.430306</td>\n      <td>0.911423</td>\n      <td>263261.000000</td>\n      <td>569.374358</td>\n      <td>0.866195</td>\n      <td>0.994677</td>\n      <td>0.990685</td>\n      <td>0.987303</td>\n      <td>0.010451</td>\n      <td>0.003665</td>\n      <td>0.974767</td>\n      <td>0.999733</td>\n    </tr>\n  </tbody>\n</table>\n</div>"
     },
     "execution_count": 23,
     "metadata": {},
     "output_type": "execute_result"
    }
   ],
   "source": [
    "data.describe()"
   ],
   "metadata": {
    "collapsed": false,
    "pycharm": {
     "name": "#%%\n"
    }
   }
  },
  {
   "cell_type": "code",
   "execution_count": 23,
   "outputs": [],
   "source": [],
   "metadata": {
    "collapsed": false,
    "pycharm": {
     "name": "#%%\n"
    }
   }
  }
 ],
 "metadata": {
  "kernelspec": {
   "display_name": "Python 3",
   "language": "python",
   "name": "python3"
  },
  "language_info": {
   "codemirror_mode": {
    "name": "ipython",
    "version": 2
   },
   "file_extension": ".py",
   "mimetype": "text/x-python",
   "name": "python",
   "nbconvert_exporter": "python",
   "pygments_lexer": "ipython2",
   "version": "2.7.6"
  }
 },
 "nbformat": 4,
 "nbformat_minor": 0
}