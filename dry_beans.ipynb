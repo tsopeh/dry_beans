{
 "cells": [
  {
   "cell_type": "markdown",
   "source": [
    "# Dry Bean\n",
    "\n",
    "https://archive.ics.uci.edu/ml/datasets/Dry+Bean+Dataset\n",
    "\n",
    "## Data Set Information:\n",
    "\n",
    "Seven different types of dry beans were used in this research, taking into account the features such as form, shape, type, and structure by the market situation. A computer vision system was developed to distinguish seven different registered varieties of dry beans with similar features in order to obtain uniform seed classification. For the classification model, images of 13,611 grains of 7 different registered dry beans were taken with a high-resolution camera. Bean images obtained by computer vision system were subjected to segmentation and feature extraction stages, and a total of 16 features; 12 dimensions and 4 shape forms, were obtained from the grains.\n",
    "\n",
    "\n",
    "## Attribute Information:\n",
    "\n",
    "01. Area (A): The area of a bean zone and the number of pixels within its boundaries.\n",
    "02. Perimeter (P): Bean circumference is defined as the length of its border.\n",
    "03. Major axis length (L): The distance between the ends of the longest line that can be drawn from a bean.\n",
    "04. Minor axis length (l): The longest line that can be drawn from the bean while standing perpendicular to the main axis.\n",
    "05. Aspect ratio (K): Defines the relationship between L and l.\n",
    "06. Eccentricity (Ec): Eccentricity of the ellipse having the same moments as the region.\n",
    "07. Convex area (C): Number of pixels in the smallest convex polygon that can contain the area of a bean seed.\n",
    "08. Equivalent diameter (Ed): The diameter of a circle having the same area as a bean seed area.\n",
    "09. Extent (Ex): The ratio of the pixels in the bounding box to the bean area.\n",
    "10. Solidity (S): Also known as convexity. The ratio of the pixels in the convex shell to those found in beans.\n",
    "11. Roundness (R): Calculated with the following formula: (4piA)/(P^2)\n",
    "12. Compactness (CO): Measures the roundness of an object: Ed/L\n",
    "13. ShapeFactor1 (SF1)\n",
    "14. ShapeFactor2 (SF2)\n",
    "15. ShapeFactor3 (SF3)\n",
    "16. ShapeFactor4 (SF4)\n",
    "17. Class (Seker, Barbunya, Bombay, Cali, Dermosan, Horoz and Sira)"
   ],
   "metadata": {
    "collapsed": false
   }
  },
  {
   "cell_type": "code",
   "execution_count": 1,
   "metadata": {
    "collapsed": true
   },
   "outputs": [],
   "source": [
    "import re  # Regex\n",
    "import numpy as np\n",
    "import pandas as pd\n",
    "from sklearn.tree import DecisionTreeClassifier, plot_tree\n",
    "from sklearn.model_selection import train_test_split, cross_val_score\n",
    "from sklearn.metrics import confusion_matrix, plot_confusion_matrix, ConfusionMatrixDisplay, accuracy_score\n",
    "from sklearn import preprocessing\n",
    "import seaborn as sns\n",
    "from matplotlib import pyplot as plt"
   ]
  },
  {
   "cell_type": "code",
   "execution_count": 2,
   "outputs": [],
   "source": [
    "# @formatter:off\n",
    "%matplotlib inline\n",
    "# @formatter:on\n",
    "\n",
    "\"\"\"\n",
    "Executing methods that do some data transformation which involves randomness\n",
    "(i.e. sampling or data splitting) yields different result for each run. In order\n",
    " to have predictable results we can leverage the function argument called\n",
    " `random_state` and set it to a constant value (`randomness_id`).\n",
    "\"\"\"\n",
    "randomness_id = 42\n",
    "np.random.seed(randomness_id)"
   ],
   "metadata": {
    "collapsed": false,
    "pycharm": {
     "name": "#%%\n"
    }
   }
  },
  {
   "cell_type": "code",
   "execution_count": null,
   "outputs": [],
   "source": [
    "original_df = pd.read_excel(\"./data/Dry_Bean_Dataset.xlsx\")\n",
    "original_df.shape[0]"
   ],
   "metadata": {
    "collapsed": false,
    "pycharm": {
     "name": "#%%\n",
     "is_executing": true
    }
   }
  },
  {
   "cell_type": "code",
   "execution_count": null,
   "outputs": [],
   "source": [
    "original_df.head()"
   ],
   "metadata": {
    "collapsed": false,
    "pycharm": {
     "name": "#%%\n",
     "is_executing": true
    }
   }
  },
  {
   "cell_type": "code",
   "execution_count": null,
   "outputs": [],
   "source": [
    "original_df.columns = map(lambda name: re.sub(\"(?!^)([A-Z]+)\", r\"_\\1\", name).lower(), original_df.columns)"
   ],
   "metadata": {
    "collapsed": false,
    "pycharm": {
     "name": "#%%\n",
     "is_executing": true
    }
   }
  },
  {
   "cell_type": "code",
   "execution_count": null,
   "outputs": [],
   "source": [
    "original_df.info()"
   ],
   "metadata": {
    "collapsed": false,
    "pycharm": {
     "name": "#%%\n",
     "is_executing": true
    }
   }
  },
  {
   "cell_type": "code",
   "execution_count": null,
   "outputs": [],
   "source": [
    "original_df.isnull().sum()"
   ],
   "metadata": {
    "collapsed": false,
    "pycharm": {
     "name": "#%%\n",
     "is_executing": true
    }
   }
  },
  {
   "cell_type": "code",
   "execution_count": null,
   "outputs": [],
   "source": [
    "# sns.pairplot(pd.DataFrame.sample(original_df[list(original_df.columns)[:]], frac=0.1, random_state=randomness_id),\n",
    "#              hue=\"class\")"
   ],
   "metadata": {
    "collapsed": false,
    "pycharm": {
     "name": "#%%\n",
     "is_executing": true
    }
   }
  },
  {
   "cell_type": "code",
   "execution_count": null,
   "outputs": [],
   "source": [
    "plt.figure(figsize=(15, 8))\n",
    "sns.heatmap(original_df.corr(), annot=True)"
   ],
   "metadata": {
    "collapsed": false,
    "pycharm": {
     "name": "#%%\n",
     "is_executing": true
    }
   }
  },
  {
   "cell_type": "code",
   "execution_count": null,
   "outputs": [],
   "source": [
    "# TODO: Remove redundant columns.\n",
    "original_df.drop(['convex_area', 'solidity', 'roundness', 'shape_factor4', 'extent', 'aspect_ration'], axis=1,\n",
    "                 inplace=True)\n",
    "# original_df = original_df[\n",
    "#     [\"area\", \"aspect_ration\", \"extent\", \"solidity\", \"roundness\", \"shape_factor1\", \"shape_factor2\", \"shape_factor3\",\n",
    "#      \"shape_factor4\", \"class\"]]\n",
    "\n",
    "label_encoder = preprocessing.LabelEncoder()\n",
    "label_encoder.fit(original_df[\"class\"])\n",
    "original_df[\"class\"] = label_encoder.transform(original_df[\"class\"])"
   ],
   "metadata": {
    "collapsed": false,
    "pycharm": {
     "name": "#%%\n",
     "is_executing": true
    }
   }
  },
  {
   "cell_type": "code",
   "execution_count": null,
   "outputs": [],
   "source": [
    "original_df.describe()"
   ],
   "metadata": {
    "collapsed": false,
    "pycharm": {
     "name": "#%%\n",
     "is_executing": true
    }
   }
  },
  {
   "cell_type": "code",
   "execution_count": null,
   "outputs": [],
   "source": [
    "original_df[\"class\"].value_counts()"
   ],
   "metadata": {
    "collapsed": false,
    "pycharm": {
     "name": "#%%\n",
     "is_executing": true
    }
   }
  },
  {
   "cell_type": "code",
   "execution_count": null,
   "outputs": [],
   "source": [
    "# df = original_df.groupby('class', as_index=False).apply(lambda x: x.sample(original_df[\"class\"].value_counts().min(), random_state=randomness_id)).reset_index(drop=True)\n",
    "df = original_df.sample(frac=0.1, random_state=randomness_id)\n",
    "# df = original_df\n",
    "df[\"class\"].value_counts()"
   ],
   "metadata": {
    "collapsed": false,
    "pycharm": {
     "name": "#%%\n",
     "is_executing": true
    }
   }
  },
  {
   "cell_type": "code",
   "execution_count": null,
   "outputs": [],
   "source": [
    "X = df.drop(\"class\", axis=1).copy()\n",
    "y = df[\"class\"].copy()\n",
    "\n",
    "X_train, X_test, y_train, y_test = train_test_split(X, y, stratify=y, random_state=randomness_id)\n",
    "\n",
    "# from sklearn.preprocessing import StandardScaler\n",
    "# scaler_x = StandardScaler()\n",
    "# X_train = pd.DataFrame(scaler_x.transform(X_train), index=X_train.index, columns=X_train.columns)\n",
    "# X_test = pd.DataFrame(scaler_x.transform(X_test), index=X_test.index, columns=X_test.columns)\n",
    "\n",
    "len(X_train), len(X_test)"
   ],
   "metadata": {
    "collapsed": false,
    "pycharm": {
     "name": "#%%\n",
     "is_executing": true
    }
   }
  },
  {
   "cell_type": "code",
   "execution_count": null,
   "outputs": [],
   "source": [
    "X_train.describe()"
   ],
   "metadata": {
    "collapsed": false,
    "pycharm": {
     "name": "#%%\n",
     "is_executing": true
    }
   }
  },
  {
   "cell_type": "code",
   "execution_count": null,
   "outputs": [],
   "source": [
    "suboptimal_clf_dt = DecisionTreeClassifier(random_state=randomness_id).fit(X_train, y_train)\n",
    "\n",
    "# plt.figure(figsize=(15, 10))\n",
    "# plot_tree(suboptimal_clf_dt, filled=True, rounded=True, feature_names=X.columns)"
   ],
   "metadata": {
    "collapsed": false,
    "pycharm": {
     "name": "#%%\n",
     "is_executing": true
    }
   }
  },
  {
   "cell_type": "code",
   "execution_count": null,
   "outputs": [],
   "source": [
    "y_suboptimal_pred = suboptimal_clf_dt.predict(X_test)\n",
    "fig, ax = plt.subplots(figsize=(10, 10))\n",
    "ConfusionMatrixDisplay.from_predictions(y_test, y_suboptimal_pred, ax=ax)"
   ],
   "metadata": {
    "collapsed": false,
    "pycharm": {
     "name": "#%%\n",
     "is_executing": true
    }
   }
  },
  {
   "cell_type": "code",
   "execution_count": null,
   "outputs": [],
   "source": [
    "accuracy_score(y_test, y_suboptimal_pred)"
   ],
   "metadata": {
    "collapsed": false,
    "pycharm": {
     "name": "#%%\n",
     "is_executing": true
    }
   }
  },
  {
   "cell_type": "code",
   "execution_count": null,
   "outputs": [],
   "source": [
    "path = suboptimal_clf_dt.cost_complexity_pruning_path(X_train, y_train)\n",
    "ccp_alphas = path.ccp_alphas[:-1]\n",
    "\n",
    "dts = []\n",
    "for ccp_alpha in ccp_alphas:\n",
    "    dt = DecisionTreeClassifier(random_state=randomness_id, ccp_alpha=ccp_alpha)\n",
    "    dt.fit(X_train, y_train)\n",
    "    dts.append(dt)"
   ],
   "metadata": {
    "collapsed": false,
    "pycharm": {
     "name": "#%%\n",
     "is_executing": true
    }
   }
  },
  {
   "cell_type": "code",
   "execution_count": null,
   "outputs": [],
   "source": [
    "train_scores = [dt.score(X_train, y_train) for dt in dts]\n",
    "test_scores = [dt.score(X_test, y_test) for dt in dts]\n",
    "\n",
    "fig, ax = plt.subplots(figsize=(10, 7))\n",
    "ax.set_xlabel(\"alpha\")\n",
    "ax.set_ylabel(\"accuracy\")\n",
    "ax.plot(ccp_alphas, train_scores, marker=\"o\", label=\"train\", drawstyle=\"steps-post\")\n",
    "ax.plot(ccp_alphas, test_scores, marker=\"o\", label=\"test\", drawstyle=\"steps-post\")\n",
    "ax.legend()"
   ],
   "metadata": {
    "collapsed": false,
    "pycharm": {
     "name": "#%%\n",
     "is_executing": true
    }
   }
  },
  {
   "cell_type": "code",
   "execution_count": null,
   "outputs": [],
   "source": [
    "cv_dt = DecisionTreeClassifier(random_state=42, ccp_alpha=0.046)\n",
    "scores = cross_val_score(cv_dt, X_train, y_train, cv=5)\n",
    "tree_df = pd.DataFrame(data={\"tree\": range(5), \"accuracy\": scores})\n",
    "tree_df.plot(x=\"tree\", y=\"accuracy\", marker=\"o\", linestyle=\"--\")"
   ],
   "metadata": {
    "collapsed": false,
    "pycharm": {
     "name": "#%%\n",
     "is_executing": true
    }
   }
  },
  {
   "cell_type": "code",
   "execution_count": null,
   "outputs": [],
   "source": [
    "alpha_loop_values = []\n",
    "for ccp_alpha in ccp_alphas:\n",
    "    dt = DecisionTreeClassifier(random_state=randomness_id, ccp_alpha=ccp_alpha)\n",
    "    scores = cross_val_score(dt, X_train, y_train, cv=5)\n",
    "    alpha_loop_values.append([ccp_alpha, np.mean(scores), np.std(scores)])\n",
    "\n",
    "alpha_results = pd.DataFrame(alpha_loop_values, columns=[\"alpha\", \"mean_accuracy\", \"std\"])\n",
    "\n",
    "alpha_results.plot(x=\"alpha\", y=\"mean_accuracy\", yerr=\"std\", marker=\"o\", linestyle=\"--\")"
   ],
   "metadata": {
    "collapsed": false,
    "pycharm": {
     "name": "#%%\n",
     "is_executing": true
    }
   }
  },
  {
   "cell_type": "code",
   "execution_count": null,
   "outputs": [],
   "source": [
    "best_alpha = 0.01\n",
    "pruned_dt = DecisionTreeClassifier(random_state=randomness_id, ccp_alpha=best_alpha).fit(X_train, y_train)\n",
    "\n",
    "y_predicted = pruned_dt.predict(X_test)\n",
    "\n",
    "fig, ax = plt.subplots(figsize=(10, 10))\n",
    "ConfusionMatrixDisplay.from_predictions(y_test, y_predicted, ax=ax)"
   ],
   "metadata": {
    "collapsed": false,
    "pycharm": {
     "name": "#%%\n",
     "is_executing": true
    }
   }
  },
  {
   "cell_type": "code",
   "execution_count": null,
   "outputs": [],
   "source": [
    "plt.figure(figsize=(15, 10))\n",
    "plot_tree(pruned_dt, filled=True, rounded=True, feature_names=X.columns)\n",
    "# plt.savefig('tree.eps', format='eps', bbox_inches=\"tight\")"
   ],
   "metadata": {
    "collapsed": false,
    "pycharm": {
     "name": "#%%\n",
     "is_executing": true
    }
   }
  },
  {
   "cell_type": "code",
   "execution_count": null,
   "outputs": [],
   "source": [
    "accuracy_score(y_test, y_predicted)"
   ],
   "metadata": {
    "collapsed": false,
    "pycharm": {
     "name": "#%%\n",
     "is_executing": true
    }
   }
  },
  {
   "cell_type": "code",
   "execution_count": null,
   "outputs": [],
   "source": [
    "original_X_test = original_df.drop(\"class\", axis=1).copy()\n",
    "original_y_test = original_df[\"class\"].copy()\n",
    "\n",
    "original_y_predicted = pruned_dt.predict(original_X_test)\n",
    "\n",
    "fig, ax = plt.subplots(figsize=(10, 10))\n",
    "ConfusionMatrixDisplay.from_predictions(original_y_test, original_y_predicted, ax=ax)"
   ],
   "metadata": {
    "collapsed": false,
    "pycharm": {
     "name": "#%%\n",
     "is_executing": true
    }
   }
  },
  {
   "cell_type": "code",
   "execution_count": null,
   "outputs": [],
   "source": [
    "accuracy_score(original_y_test, original_y_predicted)"
   ],
   "metadata": {
    "collapsed": false,
    "pycharm": {
     "name": "#%%\n",
     "is_executing": true
    }
   }
  }
 ],
 "metadata": {
  "kernelspec": {
   "display_name": "Python 3",
   "language": "python",
   "name": "python3"
  },
  "language_info": {
   "codemirror_mode": {
    "name": "ipython",
    "version": 2
   },
   "file_extension": ".py",
   "mimetype": "text/x-python",
   "name": "python",
   "nbconvert_exporter": "python",
   "pygments_lexer": "ipython2",
   "version": "2.7.6"
  }
 },
 "nbformat": 4,
 "nbformat_minor": 0
}